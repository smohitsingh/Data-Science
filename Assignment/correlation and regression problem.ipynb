{
  "cells": [
    {
      "metadata": {
        "_uuid": "33c6546b7b290d39b6c089fa58adc23c9c43552d"
      },
      "cell_type": "markdown",
      "source": "### Correlation and Regression Lines - A Quick Recap #1"
    },
    {
      "metadata": {
        "_cell_guid": "79c7e3d0-c299-4dcb-8224-4455121ee9b0",
        "_uuid": "d629ff2d2480ee46fbb7e2d37f6b5fab8052498a",
        "trusted": true
      },
      "cell_type": "code",
      "source": "import numpy as np\nPhysics_Scores = [15, 12, 8,   8,  7, 7,  7,  6, 5, 3]\nHistory_Scores = [10,  25, 17, 11, 13, 17, 20, 13, 9, 15]\nr = np.corrcoef(Physics_Scores,History_Scores)[1,0]\n\nr='%.3f' % r \nprint(r)",
      "execution_count": 44,
      "outputs": [
        {
          "output_type": "stream",
          "text": "0.145\n",
          "name": "stdout"
        }
      ]
    },
    {
      "metadata": {
        "_uuid": "b80b857ac90b12d85e17bd3459896e7f8bebca7b"
      },
      "cell_type": "markdown",
      "source": "### Correlation and Regression Lines - A Quick Recap #2"
    },
    {
      "metadata": {
        "trusted": true,
        "_uuid": "5fe6bab9f8d283a4cbbd54d2f60fadfc832f29e5"
      },
      "cell_type": "code",
      "source": "import pandas as pd\nPhysics_Scores = [15, 12, 8, 8,  7, 7,  7,  6, 5, 3]\nHistory_Scores = [10, 25, 17, 11, 13, 17, 20, 13, 9, 15]\nX = pd.DataFrame(Physics_Scores)  \ny = pd.DataFrame( History_Scores)  ",
      "execution_count": 45,
      "outputs": []
    },
    {
      "metadata": {
        "trusted": true,
        "_uuid": "5dc0f300409ad3709e115ea7d7a5342ca86aed5a"
      },
      "cell_type": "code",
      "source": "from sklearn.linear_model import LinearRegression  \nregressor = LinearRegression()  \nreg = regressor.fit(X, y)  \nreg.coef_  # slope of the line of regression ",
      "execution_count": 46,
      "outputs": [
        {
          "output_type": "execute_result",
          "execution_count": 46,
          "data": {
            "text/plain": "array([[0.20833333]])"
          },
          "metadata": {}
        }
      ]
    },
    {
      "metadata": {
        "_uuid": "20c897cd4bea08fb0f17011712de69211a43aaf9"
      },
      "cell_type": "markdown",
      "source": "### Correlation and Regression Lines - A quick recap #3"
    },
    {
      "metadata": {
        "trusted": true,
        "_uuid": "8efe67d30c8f61916598401d5cfa1d46c91f618d"
      },
      "cell_type": "code",
      "source": "z=np.array(10).reshape(-1,1)\nz\nreg.predict(z) # Predict the History_Scores value for Physics_Scores of 10 ",
      "execution_count": 43,
      "outputs": [
        {
          "output_type": "execute_result",
          "execution_count": 43,
          "data": {
            "text/plain": "array([[15.45833333]])"
          },
          "metadata": {}
        }
      ]
    },
    {
      "metadata": {
        "trusted": true,
        "_uuid": "d7118adfa2cba0acc408afa7f0244679d96019b5"
      },
      "cell_type": "markdown",
      "source": "### Correlation and Regression Lines - A quick recap #4"
    },
    {
      "metadata": {
        "trusted": true,
        "_uuid": "4fbbaba5dff3b881de78d747345f84bd723f200f"
      },
      "cell_type": "code",
      "source": "x=[i for i in range(0,20)]\n\n'''\n    4x - 5y + 33 = 0\n    x = ( 5y - 33 ) / 4\n    y = ( 4x + 33 ) / 5\n    \n    20x - 9y - 107 = 0\n    x = (9y + 107)/20\n    y = (20x - 107)/9\n'''\nt=7\nprint( ( 9 * t + 107 ) / 20 )",
      "execution_count": 63,
      "outputs": [
        {
          "output_type": "stream",
          "text": "8.5\n",
          "name": "stdout"
        }
      ]
    }
  ],
  "metadata": {
    "kernelspec": {
      "display_name": "Python 3",
      "language": "python",
      "name": "python3"
    },
    "language_info": {
      "name": "python",
      "version": "3.6.6",
      "mimetype": "text/x-python",
      "codemirror_mode": {
        "name": "ipython",
        "version": 3
      },
      "pygments_lexer": "ipython3",
      "nbconvert_exporter": "python",
      "file_extension": ".py"
    }
  },
  "nbformat": 4,
  "nbformat_minor": 1
}