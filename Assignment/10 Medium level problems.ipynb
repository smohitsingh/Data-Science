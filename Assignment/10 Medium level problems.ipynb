{
 "cells": [
  {
   "cell_type": "markdown",
   "metadata": {
    "_uuid": "e1841a8a258ceb547c61c303d447c145cd3b6a22"
   },
   "source": [
    "### 1. The Minion Game"
   ]
  },
  {
   "cell_type": "code",
   "execution_count": 1,
   "metadata": {
    "_uuid": "3159b4fff03e4d9ee1fa742cf9ce808f634296a3"
   },
   "outputs": [
    {
     "name": "stdout",
     "output_type": "stream",
     "text": [
      "BANANA\n",
      "Stuart 12\n"
     ]
    }
   ],
   "source": [
    "s = input()\n",
    "vowels, L = 'AEIOU', len(s)\n",
    "K = sum([L-i for i in range(L) if s[i] in vowels])\n",
    "S = sum([L-i for i in range(L) if s[i] not in vowels])\n",
    "print(['Stuart '+str(S),['Kevin '+str(K),'Draw'][K==S]][K>=S])"
   ]
  },
  {
   "cell_type": "markdown",
   "metadata": {
    "_uuid": "6cde2af953b69848b16ff50ebc9e44aed0e7e838"
   },
   "source": [
    "### 2. Words Score"
   ]
  },
  {
   "cell_type": "code",
   "execution_count": 2,
   "metadata": {
    "_uuid": "ac432dfbd5d8befed856eec90aa4fc2234162e47"
   },
   "outputs": [
    {
     "data": {
      "text/plain": [
       "12"
      ]
     },
     "execution_count": 2,
     "metadata": {},
     "output_type": "execute_result"
    }
   ],
   "source": [
    "def score_words(words):\n",
    "    score = 0\n",
    "    for word in words:\n",
    "        num_vowels = sum(map(word.count, \"aeiouy\"))\n",
    "        score += 2 if num_vowels % 2 == 0 else 1\n",
    "    return score\n",
    "score_words(\"BANANA\")"
   ]
  },
  {
   "cell_type": "markdown",
   "metadata": {
    "_uuid": "fd8579e60e3ef68c8f78005a4b887ac3e7882eb7"
   },
   "source": [
    "### 3. Compress the String! "
   ]
  },
  {
   "cell_type": "code",
   "execution_count": 3,
   "metadata": {
    "_uuid": "d204cd90a5bafa9e305416ad9e3c4f006b1eb412"
   },
   "outputs": [
    {
     "name": "stdout",
     "output_type": "stream",
     "text": [
      "55665588\n",
      "(2, 5) (2, 6) (2, 5) (2, 8)\n"
     ]
    }
   ],
   "source": [
    "import itertools as it\n",
    "print(' '.join(('({}, {})'.format(len(list(g)), x) for x,g in it.groupby(input()))))"
   ]
  },
  {
   "cell_type": "markdown",
   "metadata": {},
   "source": [
    "### 4. Merge the Tools!"
   ]
  },
  {
   "cell_type": "code",
   "execution_count": 4,
   "metadata": {
    "_uuid": "4e265d55eced0a10a4eaca1d92fb7fb7e1a17989"
   },
   "outputs": [
    {
     "name": "stdout",
     "output_type": "stream",
     "text": [
      "AABCAAADA\n",
      "3\n",
      "AB\n",
      "CA\n",
      "AD\n"
     ]
    }
   ],
   "source": [
    "from collections import OrderedDict\n",
    "\n",
    "s = input()\n",
    "k = int(input())\n",
    "z = zip(*[iter(s)]*k)\n",
    "m = map(OrderedDict.fromkeys, z)\n",
    "u = map(\"\".join, m)\n",
    "print(\"\\n\".join(u))"
   ]
  },
  {
   "cell_type": "markdown",
   "metadata": {
    "_uuid": "e037b47479aeb12a6daf2077be1fb6ee43c01094"
   },
   "source": [
    "### 5. ginortS ! "
   ]
  },
  {
   "cell_type": "code",
   "execution_count": 5,
   "metadata": {
    "_uuid": "51ce73837f4196758679aa5ea10e7d7d566c9be6"
   },
   "outputs": [
    {
     "name": "stdout",
     "output_type": "stream",
     "text": [
      "sorted1234\n",
      "deorst1324\n"
     ]
    }
   ],
   "source": [
    "import re\n",
    "from functools import reduce\n",
    "\n",
    "string = str(sorted(input()))\n",
    "\n",
    "lower = re.findall(r'([a-z])', string)\n",
    "upper = re.findall(r'([A-Z])', string)\n",
    "odd = re.findall(r'([13579])', string)\n",
    "even = re.findall(r'([02468])', string)\n",
    "\n",
    "print(reduce(lambda x,y:x+y,lower+upper+odd+even))"
   ]
  },
  {
   "cell_type": "markdown",
   "metadata": {
    "_uuid": "e037b47479aeb12a6daf2077be1fb6ee43c01094"
   },
   "source": [
    "### 6.  Validating Email Addresses With a Filter! "
   ]
  },
  {
   "cell_type": "code",
   "execution_count": null,
   "metadata": {},
   "outputs": [],
   "source": [
    "z c\n",
    "vimport re\n",
    "no_lines = int(input())\n",
    "\n",
    "pattern1 = r'(?<=\\s)\\|{2}(?=\\s)'\n",
    "pattern2 = r'(?<=\\s)\\&{2}(?=\\s)'\n",
    "\n",
    "for _ in range(no_lines):\n",
    "    s = input()\n",
    "    s = re.sub(pattern1, 'or', s, flags=re.M)\n",
    "    print(re.sub(pattern2, 'and', s, flags=re.M))"
   ]
  },
  {
   "cell_type": "markdown",
   "metadata": {
    "_uuid": "e037b47479aeb12a6daf2077be1fb6ee43c01094"
   },
   "source": [
    "### 7.  Validating Credit Card Numbers ! "
   ]
  },
  {
   "cell_type": "code",
   "execution_count": null,
   "metadata": {},
   "outputs": [],
   "source": [
    "import re\n",
    "\n",
    "for _ in range(int(input())):\n",
    "    s = input()\n",
    "\n",
    "    if re.match(r\"^[456]([\\d]{15}|[\\d]{3}(-[\\d]{4}){3})$\", s) and not re.search(r\"([\\d])\\1\\1\\1\", s.replace(\"-\", \"\")):\n",
    "        print(\"Valid\")\n",
    "    else:\n",
    "        print(\"Invalid\")"
   ]
  },
  {
   "cell_type": "markdown",
   "metadata": {
    "_uuid": "e037b47479aeb12a6daf2077be1fb6ee43c01094"
   },
   "source": [
    "### 8. No Idea ! "
   ]
  },
  {
   "cell_type": "code",
   "execution_count": 1,
   "metadata": {},
   "outputs": [
    {
     "name": "stdout",
     "output_type": "stream",
     "text": [
      "3 2\n",
      "5 8 9 \n",
      "3 1 \n",
      "5 7 \n",
      "-1\n"
     ]
    }
   ],
   "source": [
    "n, m = input().split()\n",
    "arr = [int(x) for x in input().split()]\n",
    "A = set([int(y) for y in input().split()])\n",
    "B = set([int(z) for z in input().split()])\n",
    "count = [0 + 1 if x in A else 0-1 if x in B else 0 + 0 for x in arr]\n",
    "print(sum(count))"
   ]
  },
  {
   "cell_type": "markdown",
   "metadata": {
    "_uuid": "e037b47479aeb12a6daf2077be1fb6ee43c01094"
   },
   "source": [
    "### 9. Piling Up ! "
   ]
  },
  {
   "cell_type": "code",
   "execution_count": null,
   "metadata": {},
   "outputs": [],
   "source": [
    "from collections import deque\n",
    "\n",
    "for i in range(int(input())):\n",
    "    _, n = input(), deque(map(int, input().split()))\n",
    "    ans = True\n",
    "\n",
    "    for j in range(len(n) - 1):\n",
    "        if n[0] >= n[1]:\n",
    "            n.popleft()\n",
    "        elif n[-1] >= n[-2]:\n",
    "            n.pop()\n",
    "        else:\n",
    "            ans = False\n",
    "            break\n",
    "    print('Yes' if ans else 'No')"
   ]
  },
  {
   "cell_type": "markdown",
   "metadata": {
    "_uuid": "e037b47479aeb12a6daf2077be1fb6ee43c01094"
   },
   "source": [
    "### 10. ! "
   ]
  },
  {
   "cell_type": "code",
   "execution_count": 1,
   "metadata": {
    "_uuid": "385c0548c353c234aff2163d0f66a1a1073a07de"
   },
   "outputs": [
    {
     "name": "stdout",
     "output_type": "stream",
     "text": [
      "aabbbccde\n",
      "b 3\n",
      "a 2\n",
      "c 2\n"
     ]
    },
    {
     "data": {
      "text/plain": [
       "[None, None, None]"
      ]
     },
     "execution_count": 1,
     "metadata": {},
     "output_type": "execute_result"
    }
   ],
   "source": [
    "from collections import Counter, OrderedDict\n",
    "class OrderedCounter(Counter, OrderedDict):\n",
    "    pass\n",
    "letters = OrderedCounter(sorted(input())).most_common(3)\n",
    "[print(*letter) for letter in letters]"
   ]
  }
 ],
 "metadata": {
  "kernelspec": {
   "display_name": "Python 3",
   "language": "python",
   "name": "python3"
  },
  "language_info": {
   "codemirror_mode": {
    "name": "ipython",
    "version": 3
   },
   "file_extension": ".py",
   "mimetype": "text/x-python",
   "name": "python",
   "nbconvert_exporter": "python",
   "pygments_lexer": "ipython3",
   "version": "3.6.7"
  }
 },
 "nbformat": 4,
 "nbformat_minor": 1
}
