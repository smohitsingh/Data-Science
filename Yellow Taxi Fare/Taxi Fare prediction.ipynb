{
 "cells": [
  {
   "cell_type": "markdown",
   "metadata": {},
   "source": [
    "# New York City Yellow Taxi Fare - Prediction"
   ]
  },
  {
   "cell_type": "code",
   "execution_count": 1,
   "metadata": {},
   "outputs": [],
   "source": [
    "# Importing required Packages\n",
    "import pandas as pd\n",
    "import numpy as np\n",
    "from sklearn import metrics  \n",
    "import matplotlib.pyplot as plt\n",
    "%matplotlib inline\n",
    "import warnings\n",
    "warnings.filterwarnings(\"ignore\")"
   ]
  },
  {
   "cell_type": "code",
   "execution_count": 2,
   "metadata": {},
   "outputs": [],
   "source": [
    "# Read Test and Train\n",
    "taxi_fare=pd.read_csv(\"taxi_fare.csv\")\n",
    "test_fare=pd.read_csv(\"test_fare.csv\")"
   ]
  },
  {
   "cell_type": "code",
   "execution_count": 3,
   "metadata": {},
   "outputs": [],
   "source": [
    "# Copy of original data\n",
    "train=taxi_fare.copy()\n",
    "test=test_fare.copy()"
   ]
  },
  {
   "cell_type": "code",
   "execution_count": 4,
   "metadata": {},
   "outputs": [
    {
     "data": {
      "text/plain": [
       "(Index(['fare_amount', 'pickup_longitude', 'pickup_latitude',\n",
       "        'dropoff_longitude', 'dropoff_latitude', 'passenger_count', 'year',\n",
       "        'month', 'day', 'dayOfWeek', 'hour', 'timeOfDayMid.Day',\n",
       "        'timeOfDayMorning', 'timeOfDayNight'],\n",
       "       dtype='object'),\n",
       " Index(['pickup_longitude', 'pickup_latitude', 'dropoff_longitude',\n",
       "        'dropoff_latitude', 'passenger_count', 'year', 'month', 'day',\n",
       "        'dayOfWeek', 'hour', 'timeOfDayMid.Day', 'timeOfDayMorning',\n",
       "        'timeOfDayNight'],\n",
       "       dtype='object'))"
      ]
     },
     "execution_count": 4,
     "metadata": {},
     "output_type": "execute_result"
    }
   ],
   "source": [
    "# Features in the dataset\n",
    "train.columns, test.columns"
   ]
  },
  {
   "cell_type": "code",
   "execution_count": 5,
   "metadata": {},
   "outputs": [
    {
     "data": {
      "text/html": [
       "<div>\n",
       "<style scoped>\n",
       "    .dataframe tbody tr th:only-of-type {\n",
       "        vertical-align: middle;\n",
       "    }\n",
       "\n",
       "    .dataframe tbody tr th {\n",
       "        vertical-align: top;\n",
       "    }\n",
       "\n",
       "    .dataframe thead th {\n",
       "        text-align: right;\n",
       "    }\n",
       "</style>\n",
       "<table border=\"1\" class=\"dataframe\">\n",
       "  <thead>\n",
       "    <tr style=\"text-align: right;\">\n",
       "      <th></th>\n",
       "      <th>fare_amount</th>\n",
       "      <th>pickup_longitude</th>\n",
       "      <th>pickup_latitude</th>\n",
       "      <th>dropoff_longitude</th>\n",
       "      <th>dropoff_latitude</th>\n",
       "      <th>passenger_count</th>\n",
       "      <th>year</th>\n",
       "      <th>month</th>\n",
       "      <th>day</th>\n",
       "      <th>dayOfWeek</th>\n",
       "      <th>hour</th>\n",
       "      <th>timeOfDayMid.Day</th>\n",
       "      <th>timeOfDayMorning</th>\n",
       "      <th>timeOfDayNight</th>\n",
       "    </tr>\n",
       "  </thead>\n",
       "  <tbody>\n",
       "    <tr>\n",
       "      <th>count</th>\n",
       "      <td>1.958885e+06</td>\n",
       "      <td>1.958885e+06</td>\n",
       "      <td>1.958885e+06</td>\n",
       "      <td>1.958885e+06</td>\n",
       "      <td>1.958885e+06</td>\n",
       "      <td>1.958885e+06</td>\n",
       "      <td>1.958885e+06</td>\n",
       "      <td>1.958885e+06</td>\n",
       "      <td>1.958885e+06</td>\n",
       "      <td>1.958885e+06</td>\n",
       "      <td>1.958885e+06</td>\n",
       "      <td>1.958885e+06</td>\n",
       "      <td>1.958885e+06</td>\n",
       "      <td>1.958885e+06</td>\n",
       "    </tr>\n",
       "    <tr>\n",
       "      <th>mean</th>\n",
       "      <td>1.061528e+01</td>\n",
       "      <td>-7.397526e+01</td>\n",
       "      <td>4.075089e+01</td>\n",
       "      <td>-7.397436e+01</td>\n",
       "      <td>4.075124e+01</td>\n",
       "      <td>1.684182e+00</td>\n",
       "      <td>3.736753e+00</td>\n",
       "      <td>6.268586e+00</td>\n",
       "      <td>1.570568e+01</td>\n",
       "      <td>4.122257e+00</td>\n",
       "      <td>1.350867e+01</td>\n",
       "      <td>2.363074e-01</td>\n",
       "      <td>1.398658e-01</td>\n",
       "      <td>4.344701e-01</td>\n",
       "    </tr>\n",
       "    <tr>\n",
       "      <th>std</th>\n",
       "      <td>6.787814e+00</td>\n",
       "      <td>4.479551e-02</td>\n",
       "      <td>3.424334e-02</td>\n",
       "      <td>4.329849e-02</td>\n",
       "      <td>3.716876e-02</td>\n",
       "      <td>1.306624e+00</td>\n",
       "      <td>1.863201e+00</td>\n",
       "      <td>3.437946e+00</td>\n",
       "      <td>8.682210e+00</td>\n",
       "      <td>1.988030e+00</td>\n",
       "      <td>6.513901e+00</td>\n",
       "      <td>4.248133e-01</td>\n",
       "      <td>3.468478e-01</td>\n",
       "      <td>4.956874e-01</td>\n",
       "    </tr>\n",
       "    <tr>\n",
       "      <th>min</th>\n",
       "      <td>3.300000e+00</td>\n",
       "      <td>-7.953506e+01</td>\n",
       "      <td>3.579768e+01</td>\n",
       "      <td>-7.948642e+01</td>\n",
       "      <td>3.556155e+01</td>\n",
       "      <td>0.000000e+00</td>\n",
       "      <td>1.000000e+00</td>\n",
       "      <td>1.000000e+00</td>\n",
       "      <td>1.000000e+00</td>\n",
       "      <td>1.000000e+00</td>\n",
       "      <td>0.000000e+00</td>\n",
       "      <td>0.000000e+00</td>\n",
       "      <td>0.000000e+00</td>\n",
       "      <td>0.000000e+00</td>\n",
       "    </tr>\n",
       "    <tr>\n",
       "      <th>25%</th>\n",
       "      <td>6.000000e+00</td>\n",
       "      <td>-7.399229e+01</td>\n",
       "      <td>4.073653e+01</td>\n",
       "      <td>-7.399160e+01</td>\n",
       "      <td>4.073550e+01</td>\n",
       "      <td>1.000000e+00</td>\n",
       "      <td>2.000000e+00</td>\n",
       "      <td>3.000000e+00</td>\n",
       "      <td>8.000000e+00</td>\n",
       "      <td>2.000000e+00</td>\n",
       "      <td>9.000000e+00</td>\n",
       "      <td>0.000000e+00</td>\n",
       "      <td>0.000000e+00</td>\n",
       "      <td>0.000000e+00</td>\n",
       "    </tr>\n",
       "    <tr>\n",
       "      <th>50%</th>\n",
       "      <td>8.500000e+00</td>\n",
       "      <td>-7.398210e+01</td>\n",
       "      <td>4.075333e+01</td>\n",
       "      <td>-7.398062e+01</td>\n",
       "      <td>4.075383e+01</td>\n",
       "      <td>1.000000e+00</td>\n",
       "      <td>4.000000e+00</td>\n",
       "      <td>6.000000e+00</td>\n",
       "      <td>1.600000e+01</td>\n",
       "      <td>4.000000e+00</td>\n",
       "      <td>1.400000e+01</td>\n",
       "      <td>0.000000e+00</td>\n",
       "      <td>0.000000e+00</td>\n",
       "      <td>0.000000e+00</td>\n",
       "    </tr>\n",
       "    <tr>\n",
       "      <th>75%</th>\n",
       "      <td>1.250000e+01</td>\n",
       "      <td>-7.396834e+01</td>\n",
       "      <td>4.076752e+01</td>\n",
       "      <td>-7.396536e+01</td>\n",
       "      <td>4.076839e+01</td>\n",
       "      <td>2.000000e+00</td>\n",
       "      <td>5.000000e+00</td>\n",
       "      <td>9.000000e+00</td>\n",
       "      <td>2.300000e+01</td>\n",
       "      <td>6.000000e+00</td>\n",
       "      <td>1.900000e+01</td>\n",
       "      <td>0.000000e+00</td>\n",
       "      <td>0.000000e+00</td>\n",
       "      <td>1.000000e+00</td>\n",
       "    </tr>\n",
       "    <tr>\n",
       "      <th>max</th>\n",
       "      <td>3.027000e+01</td>\n",
       "      <td>-7.000039e+01</td>\n",
       "      <td>4.426142e+01</td>\n",
       "      <td>-7.000226e+01</td>\n",
       "      <td>4.467143e+01</td>\n",
       "      <td>9.000000e+00</td>\n",
       "      <td>7.000000e+00</td>\n",
       "      <td>1.200000e+01</td>\n",
       "      <td>3.100000e+01</td>\n",
       "      <td>7.000000e+00</td>\n",
       "      <td>2.300000e+01</td>\n",
       "      <td>1.000000e+00</td>\n",
       "      <td>1.000000e+00</td>\n",
       "      <td>1.000000e+00</td>\n",
       "    </tr>\n",
       "  </tbody>\n",
       "</table>\n",
       "</div>"
      ],
      "text/plain": [
       "        fare_amount  pickup_longitude  pickup_latitude  dropoff_longitude  \\\n",
       "count  1.958885e+06      1.958885e+06     1.958885e+06       1.958885e+06   \n",
       "mean   1.061528e+01     -7.397526e+01     4.075089e+01      -7.397436e+01   \n",
       "std    6.787814e+00      4.479551e-02     3.424334e-02       4.329849e-02   \n",
       "min    3.300000e+00     -7.953506e+01     3.579768e+01      -7.948642e+01   \n",
       "25%    6.000000e+00     -7.399229e+01     4.073653e+01      -7.399160e+01   \n",
       "50%    8.500000e+00     -7.398210e+01     4.075333e+01      -7.398062e+01   \n",
       "75%    1.250000e+01     -7.396834e+01     4.076752e+01      -7.396536e+01   \n",
       "max    3.027000e+01     -7.000039e+01     4.426142e+01      -7.000226e+01   \n",
       "\n",
       "       dropoff_latitude  passenger_count          year         month  \\\n",
       "count      1.958885e+06     1.958885e+06  1.958885e+06  1.958885e+06   \n",
       "mean       4.075124e+01     1.684182e+00  3.736753e+00  6.268586e+00   \n",
       "std        3.716876e-02     1.306624e+00  1.863201e+00  3.437946e+00   \n",
       "min        3.556155e+01     0.000000e+00  1.000000e+00  1.000000e+00   \n",
       "25%        4.073550e+01     1.000000e+00  2.000000e+00  3.000000e+00   \n",
       "50%        4.075383e+01     1.000000e+00  4.000000e+00  6.000000e+00   \n",
       "75%        4.076839e+01     2.000000e+00  5.000000e+00  9.000000e+00   \n",
       "max        4.467143e+01     9.000000e+00  7.000000e+00  1.200000e+01   \n",
       "\n",
       "                day     dayOfWeek          hour  timeOfDayMid.Day  \\\n",
       "count  1.958885e+06  1.958885e+06  1.958885e+06      1.958885e+06   \n",
       "mean   1.570568e+01  4.122257e+00  1.350867e+01      2.363074e-01   \n",
       "std    8.682210e+00  1.988030e+00  6.513901e+00      4.248133e-01   \n",
       "min    1.000000e+00  1.000000e+00  0.000000e+00      0.000000e+00   \n",
       "25%    8.000000e+00  2.000000e+00  9.000000e+00      0.000000e+00   \n",
       "50%    1.600000e+01  4.000000e+00  1.400000e+01      0.000000e+00   \n",
       "75%    2.300000e+01  6.000000e+00  1.900000e+01      0.000000e+00   \n",
       "max    3.100000e+01  7.000000e+00  2.300000e+01      1.000000e+00   \n",
       "\n",
       "       timeOfDayMorning  timeOfDayNight  \n",
       "count      1.958885e+06    1.958885e+06  \n",
       "mean       1.398658e-01    4.344701e-01  \n",
       "std        3.468478e-01    4.956874e-01  \n",
       "min        0.000000e+00    0.000000e+00  \n",
       "25%        0.000000e+00    0.000000e+00  \n",
       "50%        0.000000e+00    0.000000e+00  \n",
       "75%        0.000000e+00    1.000000e+00  \n",
       "max        1.000000e+00    1.000000e+00  "
      ]
     },
     "execution_count": 5,
     "metadata": {},
     "output_type": "execute_result"
    }
   ],
   "source": [
    "train.describe()"
   ]
  },
  {
   "cell_type": "code",
   "execution_count": 6,
   "metadata": {},
   "outputs": [
    {
     "data": {
      "text/plain": [
       "fare_amount          float64\n",
       "pickup_longitude     float64\n",
       "pickup_latitude      float64\n",
       "dropoff_longitude    float64\n",
       "dropoff_latitude     float64\n",
       "passenger_count        int64\n",
       "year                   int64\n",
       "month                  int64\n",
       "day                    int64\n",
       "dayOfWeek              int64\n",
       "hour                   int64\n",
       "timeOfDayMid.Day       int64\n",
       "timeOfDayMorning       int64\n",
       "timeOfDayNight         int64\n",
       "dtype: object"
      ]
     },
     "execution_count": 6,
     "metadata": {},
     "output_type": "execute_result"
    }
   ],
   "source": [
    "# Print data types for each variable\n",
    "train.dtypes"
   ]
  },
  {
   "cell_type": "code",
   "execution_count": 7,
   "metadata": {},
   "outputs": [
    {
     "data": {
      "text/plain": [
       "((1958885, 14), (9914, 13))"
      ]
     },
     "execution_count": 7,
     "metadata": {},
     "output_type": "execute_result"
    }
   ],
   "source": [
    "# Shape of the dataset\n",
    "train.shape, test.shape"
   ]
  },
  {
   "cell_type": "markdown",
   "metadata": {},
   "source": [
    "## MODEL BUILDING"
   ]
  },
  {
   "cell_type": "markdown",
   "metadata": {},
   "source": [
    "**Splitting test train **"
   ]
  },
  {
   "cell_type": "code",
   "execution_count": 8,
   "metadata": {},
   "outputs": [],
   "source": [
    "# Importing the dataset\n",
    "X = train.loc[:, train.columns != 'fare_amount']\n",
    "y = train['fare_amount']"
   ]
  },
  {
   "cell_type": "code",
   "execution_count": 9,
   "metadata": {},
   "outputs": [],
   "source": [
    "from sklearn.model_selection import train_test_split #set splitting and validation\n",
    "\n",
    "#Split train set into test and train subsets\n",
    "X_train, X_test, y_train, y_test = train_test_split(X,y, test_size=0.20,random_state=0)"
   ]
  },
  {
   "cell_type": "code",
   "execution_count": 10,
   "metadata": {},
   "outputs": [
    {
     "name": "stdout",
     "output_type": "stream",
     "text": [
      "(1567108, 13) (391777, 13) (1567108,) (391777,)\n"
     ]
    }
   ],
   "source": [
    "print(X_train.shape, X_test.shape, y_train.shape, y_test.shape)"
   ]
  },
  {
   "cell_type": "code",
   "execution_count": 11,
   "metadata": {},
   "outputs": [],
   "source": [
    "# Feature Scaling \n",
    "from sklearn.preprocessing import StandardScaler\n",
    "sc = StandardScaler()\n",
    "X_train = sc.fit_transform(X_train)\n",
    "X_test = sc.transform(X_test)"
   ]
  },
  {
   "cell_type": "code",
   "execution_count": 12,
   "metadata": {},
   "outputs": [],
   "source": [
    "# Defining a Function to display model scores\n",
    "\n",
    "def display_scores(scores):\n",
    "    print(\"Scores:\", scores)\n",
    "    print(\"Mean:\", scores.mean())\n",
    "    print(\"Standard deviation:\", scores.std())"
   ]
  },
  {
   "cell_type": "markdown",
   "metadata": {},
   "source": [
    "### Linear Regression"
   ]
  },
  {
   "cell_type": "code",
   "execution_count": 13,
   "metadata": {},
   "outputs": [
    {
     "data": {
      "text/plain": [
       "LinearRegression(copy_X=True, fit_intercept=True, n_jobs=None,\n",
       "         normalize=False)"
      ]
     },
     "execution_count": 13,
     "metadata": {},
     "output_type": "execute_result"
    }
   ],
   "source": [
    "# Fitting Simple Linear Regression to the Training set\n",
    "from sklearn.linear_model import LinearRegression\n",
    "regressor = LinearRegression()\n",
    "regressor.fit(X_train, y_train)"
   ]
  },
  {
   "cell_type": "code",
   "execution_count": 14,
   "metadata": {},
   "outputs": [
    {
     "name": "stdout",
     "output_type": "stream",
     "text": [
      "0.17158664522117806\n",
      "0.17138100989479244\n"
     ]
    }
   ],
   "source": [
    "print(regressor.score(X_train,y_train))\n",
    "print(regressor.score(X_test,y_test))"
   ]
  },
  {
   "cell_type": "markdown",
   "metadata": {},
   "source": [
    "low values of Scores are a measure of R-squared values and showing that the data points in both train and test data sets are far away from the regression line and hence less percentage only ~17% variance of dependent variable is being accounted by the regression line."
   ]
  },
  {
   "cell_type": "code",
   "execution_count": 15,
   "metadata": {},
   "outputs": [
    {
     "name": "stdout",
     "output_type": "stream",
     "text": [
      "10.61209449508176\n",
      "[ 1.51254722 -0.90850723  1.43312958 -0.92230226  0.09643982  0.88025738\n",
      "  0.27786341  0.01716407  0.00240965 -0.10109857 -0.09108528 -0.07794603\n",
      " -0.09487112]\n"
     ]
    }
   ],
   "source": [
    "print(regressor.intercept_),\n",
    "print(regressor.coef_)"
   ]
  },
  {
   "cell_type": "code",
   "execution_count": 19,
   "metadata": {},
   "outputs": [],
   "source": [
    "# Predicting the Test set results\n",
    "y_pred = regressor.predict(X_test)\n",
    "y_pred1 = regressor.predict(X_train)"
   ]
  },
  {
   "cell_type": "code",
   "execution_count": 20,
   "metadata": {},
   "outputs": [
    {
     "data": {
      "text/html": [
       "<div>\n",
       "<style scoped>\n",
       "    .dataframe tbody tr th:only-of-type {\n",
       "        vertical-align: middle;\n",
       "    }\n",
       "\n",
       "    .dataframe tbody tr th {\n",
       "        vertical-align: top;\n",
       "    }\n",
       "\n",
       "    .dataframe thead th {\n",
       "        text-align: right;\n",
       "    }\n",
       "</style>\n",
       "<table border=\"1\" class=\"dataframe\">\n",
       "  <thead>\n",
       "    <tr style=\"text-align: right;\">\n",
       "      <th></th>\n",
       "      <th>Actual</th>\n",
       "      <th>Predicted</th>\n",
       "    </tr>\n",
       "  </thead>\n",
       "  <tbody>\n",
       "    <tr>\n",
       "      <th>678229</th>\n",
       "      <td>10.00</td>\n",
       "      <td>10.305830</td>\n",
       "    </tr>\n",
       "    <tr>\n",
       "      <th>1611561</th>\n",
       "      <td>24.50</td>\n",
       "      <td>12.737324</td>\n",
       "    </tr>\n",
       "    <tr>\n",
       "      <th>731459</th>\n",
       "      <td>6.50</td>\n",
       "      <td>11.604403</td>\n",
       "    </tr>\n",
       "    <tr>\n",
       "      <th>174668</th>\n",
       "      <td>20.33</td>\n",
       "      <td>12.814110</td>\n",
       "    </tr>\n",
       "    <tr>\n",
       "      <th>1635387</th>\n",
       "      <td>9.70</td>\n",
       "      <td>9.228404</td>\n",
       "    </tr>\n",
       "    <tr>\n",
       "      <th>1737463</th>\n",
       "      <td>10.90</td>\n",
       "      <td>10.317583</td>\n",
       "    </tr>\n",
       "    <tr>\n",
       "      <th>1464178</th>\n",
       "      <td>5.70</td>\n",
       "      <td>8.939693</td>\n",
       "    </tr>\n",
       "    <tr>\n",
       "      <th>760493</th>\n",
       "      <td>7.50</td>\n",
       "      <td>9.360718</td>\n",
       "    </tr>\n",
       "    <tr>\n",
       "      <th>590829</th>\n",
       "      <td>8.90</td>\n",
       "      <td>9.156452</td>\n",
       "    </tr>\n",
       "    <tr>\n",
       "      <th>1230822</th>\n",
       "      <td>13.00</td>\n",
       "      <td>12.973133</td>\n",
       "    </tr>\n",
       "  </tbody>\n",
       "</table>\n",
       "</div>"
      ],
      "text/plain": [
       "         Actual  Predicted\n",
       "678229    10.00  10.305830\n",
       "1611561   24.50  12.737324\n",
       "731459     6.50  11.604403\n",
       "174668    20.33  12.814110\n",
       "1635387    9.70   9.228404\n",
       "1737463   10.90  10.317583\n",
       "1464178    5.70   8.939693\n",
       "760493     7.50   9.360718\n",
       "590829     8.90   9.156452\n",
       "1230822   13.00  12.973133"
      ]
     },
     "execution_count": 20,
     "metadata": {},
     "output_type": "execute_result"
    }
   ],
   "source": [
    "# Checking first few data predictions\n",
    "df = pd.DataFrame({'Actual': y_test, 'Predicted': y_pred})  \n",
    "df.head(10) "
   ]
  },
  {
   "cell_type": "markdown",
   "metadata": {},
   "source": [
    "Measuring Error to evaluate model performance on test data set."
   ]
  },
  {
   "cell_type": "code",
   "execution_count": 21,
   "metadata": {},
   "outputs": [
    {
     "name": "stdout",
     "output_type": "stream",
     "text": [
      "Root Mean Squared Error: 6.175469179824859\n"
     ]
    }
   ],
   "source": [
    "print('Root Mean Squared Error:', np.sqrt(metrics.mean_squared_error(y_train, y_pred1)))  "
   ]
  },
  {
   "cell_type": "code",
   "execution_count": 22,
   "metadata": {},
   "outputs": [
    {
     "name": "stdout",
     "output_type": "stream",
     "text": [
      "Root Mean Squared Error: 6.189254892184532\n"
     ]
    }
   ],
   "source": [
    "print('Root Mean Squared Error:', np.sqrt(metrics.mean_squared_error(y_test, y_pred)))  "
   ]
  },
  {
   "cell_type": "code",
   "execution_count": 23,
   "metadata": {},
   "outputs": [
    {
     "name": "stdout",
     "output_type": "stream",
     "text": [
      "Root Mean Squared Error: 6.189254892184532\n"
     ]
    }
   ],
   "source": [
    "from sklearn import metrics  \n",
    "print('Root Mean Squared Error:', np.sqrt(metrics.mean_squared_error(y_test, y_pred)))  "
   ]
  },
  {
   "cell_type": "code",
   "execution_count": 24,
   "metadata": {},
   "outputs": [],
   "source": [
    "from sklearn.model_selection import cross_val_score"
   ]
  },
  {
   "cell_type": "markdown",
   "metadata": {},
   "source": [
    "K- fold cross validation on complete data "
   ]
  },
  {
   "cell_type": "code",
   "execution_count": 25,
   "metadata": {},
   "outputs": [
    {
     "name": "stdout",
     "output_type": "stream",
     "text": [
      "Scores: [6.1988493  6.18023946 6.16343202 6.19072946 6.16029778]\n",
      "Mean: 6.178709603823369\n",
      "Standard deviation: 0.014998829873084452\n"
     ]
    }
   ],
   "source": [
    "# Checking score for Linear Regression model created earlier using cross-validation\n",
    "scores_lin_reg = cross_val_score(regressor, X, y, \n",
    "                         scoring=\"neg_mean_squared_error\", cv=5)\n",
    "\n",
    "lin_reg_rmse_scores = np.sqrt(-scores_lin_reg)\n",
    "\n",
    "display_scores(lin_reg_rmse_scores)"
   ]
  },
  {
   "cell_type": "markdown",
   "metadata": {},
   "source": [
    "Only a slightly low RMSE value is obtained on 5-fold cross validation, 10-fold gave the same results to doing only with 5-folds, to keep efficiency of run-time."
   ]
  },
  {
   "cell_type": "markdown",
   "metadata": {},
   "source": [
    "### Decision Tree"
   ]
  },
  {
   "cell_type": "code",
   "execution_count": 26,
   "metadata": {},
   "outputs": [
    {
     "name": "stdout",
     "output_type": "stream",
     "text": [
      "Accuracy on training set: 1.000\n",
      "Accuracy on test set: 0.725\n"
     ]
    }
   ],
   "source": [
    "# Fitting Decision Tree Regression to the dataset\n",
    "from sklearn.tree import DecisionTreeRegressor\n",
    "\n",
    "tree = DecisionTreeRegressor(random_state=0)\n",
    "tree.fit(X_train, y_train)\n",
    "print(\"Accuracy on training set: {:.3f}\".format(tree.score(X_train, y_train)))\n",
    "print(\"Accuracy on test set: {:.3f}\".format(tree.score(X_test, y_test)))"
   ]
  },
  {
   "cell_type": "markdown",
   "metadata": {},
   "source": [
    "Overfitting here, Here, on test set 72.5% variance is accounted by its predicted values, while it is showing 100% variance on train observed value which means it is fitting completely on train but fail to generalise the test data. "
   ]
  },
  {
   "cell_type": "code",
   "execution_count": 27,
   "metadata": {},
   "outputs": [],
   "source": [
    "y_pred_train = tree.predict(X_train)\n",
    "y_pred= tree.predict(X_test)"
   ]
  },
  {
   "cell_type": "code",
   "execution_count": 28,
   "metadata": {},
   "outputs": [
    {
     "name": "stdout",
     "output_type": "stream",
     "text": [
      "Train set Root Mean Squared Error: 0.014099958330373074\n"
     ]
    }
   ],
   "source": [
    "\n",
    "print('Train set Root Mean Squared Error:', np.sqrt(metrics.mean_squared_error(y_train, y_pred_train)))  "
   ]
  },
  {
   "cell_type": "code",
   "execution_count": 29,
   "metadata": {},
   "outputs": [
    {
     "name": "stdout",
     "output_type": "stream",
     "text": [
      "Test set Root Mean Squared Error: 3.5639264227388603\n"
     ]
    }
   ],
   "source": [
    "print('Test set Root Mean Squared Error:', np.sqrt(metrics.mean_squared_error(y_test, y_pred)))  "
   ]
  },
  {
   "cell_type": "markdown",
   "metadata": {},
   "source": [
    "RMSE for train and test errors difference is large thereby introducing some variance in model causing Overfitting on test data."
   ]
  },
  {
   "cell_type": "code",
   "execution_count": 30,
   "metadata": {},
   "outputs": [
    {
     "name": "stdout",
     "output_type": "stream",
     "text": [
      "Feature importances:\n",
      "[0.28598716 0.15747305 0.29747682 0.18618616 0.00401483 0.02040024\n",
      " 0.01011645 0.01221258 0.00807737 0.01428521 0.00146786 0.00086667\n",
      " 0.0014356 ]\n"
     ]
    }
   ],
   "source": [
    "print(\"Feature importances:\\n{}\".format(tree.feature_importances_))"
   ]
  },
  {
   "cell_type": "code",
   "execution_count": 31,
   "metadata": {},
   "outputs": [
    {
     "data": {
      "image/png": "[encoded data removed]",
      "text/plain": [
       "<matplotlib.figure.Figure at 0x185ae87c588>"
      ]
     },
     "metadata": {},
     "output_type": "display_data"
    }
   ],
   "source": [
    "diabetes_features = X.columns\n",
    "\n",
    "def plot_feature_importances_diabetes(model):\n",
    "    plt.figure(figsize=(8,6))\n",
    "    n_features = 13\n",
    "    plt.barh(range(n_features), model.feature_importances_, align='center')\n",
    "    plt.yticks(np.arange(n_features), diabetes_features)\n",
    "    plt.xlabel(\"Feature importance\")\n",
    "    plt.ylabel(\"Feature\")\n",
    "    plt.ylim(-1, n_features)\n",
    "\n",
    "plot_feature_importances_diabetes(tree)\n",
    "plt.savefig('feature_importance')"
   ]
  },
  {
   "cell_type": "markdown",
   "metadata": {},
   "source": [
    "It looks like pickup and dropoff locations are highly significant features for predicting fair.   "
   ]
  },
  {
   "cell_type": "markdown",
   "metadata": {},
   "source": [
    "### Random Forest"
   ]
  },
  {
   "cell_type": "code",
   "execution_count": 32,
   "metadata": {},
   "outputs": [],
   "source": [
    "# Fitting Random Forest Regression to the dataset\n",
    "from sklearn.ensemble import RandomForestRegressor\n",
    "regressor = RandomForestRegressor(random_state = 0)\n",
    "regressor.fit(X_train, y_train)\n",
    "\n",
    "# Predicting a new result\n",
    "y_pred = regressor.predict(X_test)"
   ]
  },
  {
   "cell_type": "code",
   "execution_count": 33,
   "metadata": {},
   "outputs": [
    {
     "name": "stdout",
     "output_type": "stream",
     "text": [
      "Test dataset Root Mean Squared Error: 1.097334444244013\n"
     ]
    }
   ],
   "source": [
    "y_pred_train = regressor.predict(X_train)\n",
    "print('Test dataset Root Mean Squared Error:', np.sqrt(metrics.mean_squared_error(y_train, y_pred_train)))  "
   ]
  },
  {
   "cell_type": "code",
   "execution_count": 34,
   "metadata": {},
   "outputs": [
    {
     "name": "stdout",
     "output_type": "stream",
     "text": [
      "Test dataset Root Mean Squared Error: 2.5779799782021935\n"
     ]
    }
   ],
   "source": [
    "print('Test dataset Root Mean Squared Error:', np.sqrt(metrics.mean_squared_error(y_test, y_pred)))  "
   ]
  },
  {
   "cell_type": "code",
   "execution_count": 35,
   "metadata": {},
   "outputs": [
    {
     "name": "stdout",
     "output_type": "stream",
     "text": [
      "Feature importances:\n",
      "[0.28307908 0.16116172 0.29238551 0.19127401 0.00393659 0.0204331\n",
      " 0.00984132 0.01208698 0.00797377 0.01387249 0.00147114 0.00091448\n",
      " 0.0015698 ]\n"
     ]
    }
   ],
   "source": [
    "print(\"Feature importances:\\n{}\".format(regressor.feature_importances_))"
   ]
  },
  {
   "cell_type": "code",
   "execution_count": 36,
   "metadata": {},
   "outputs": [
    {
     "data": {
      "image/png": "[encoded data removed]",
      "text/plain": [
       "<matplotlib.figure.Figure at 0x185ae851438>"
      ]
     },
     "metadata": {},
     "output_type": "display_data"
    }
   ],
   "source": [
    "diabetes_features = X.columns\n",
    "\n",
    "def plot_feature_importances_diabetes(model):\n",
    "    plt.figure(figsize=(8,6))\n",
    "    n_features = 13\n",
    "    plt.barh(range(n_features), model.feature_importances_, align='center')\n",
    "    plt.yticks(np.arange(n_features), diabetes_features)\n",
    "    plt.xlabel(\"Feature importance\")\n",
    "    plt.ylabel(\"Feature\")\n",
    "    plt.ylim(-1, n_features)\n",
    "\n",
    "plot_feature_importances_diabetes(regressor)\n",
    "plt.savefig('feature_importance')"
   ]
  },
  {
   "cell_type": "markdown",
   "metadata": {},
   "source": [
    "from feature importance plot we can see that fairs are mostly affected by the pickup and dropoff locations, so they are highly significant features and very less by the \"time of day\", we got very low importance values and also considerably by \"year\" ,\"day\", \"dayofweek\",\"month\" features."
   ]
  },
  {
   "cell_type": "markdown",
   "metadata": {},
   "source": [
    "Tried using Support vector regression on this is data, but the disadvantage for using SVR is that it is only used for data sets containing less than 1000 observations, above that it takes a lot of time or say infinite time which is not efficient way of modelling.  \n",
    "\n",
    "Random forest and decision tree also took long to give output when putted on K-fold Cross validation."
   ]
  },
  {
   "cell_type": "markdown",
   "metadata": {},
   "source": [
    "### Conclusion :\n",
    "\n",
    "***Finally our Model is able to predict on test data with ~2% Root Mean Squared error on test data, which is quite good.*** "
   ]
  }
 ],
 "metadata": {
  "kernelspec": {
   "display_name": "Python 3",
   "language": "python",
   "name": "python3"
  },
  "language_info": {
   "codemirror_mode": {
    "name": "ipython",
    "version": 3
   },
   "file_extension": ".py",
   "mimetype": "text/x-python",
   "name": "python",
   "nbconvert_exporter": "python",
   "pygments_lexer": "ipython3",
   "version": "3.6.7"
  }
 },
 "nbformat": 4,
 "nbformat_minor": 2
}
